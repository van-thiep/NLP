{
 "cells": [
  {
   "cell_type": "markdown",
   "metadata": {},
   "source": [
    "## Data"
   ]
  },
  {
   "cell_type": "code",
   "execution_count": 1,
   "metadata": {},
   "outputs": [],
   "source": [
    "# Get data\n",
    "with open(\"/home/van-thiep/Downloads/Code/NLP/Data/sherlock_holmes_1.txt\",'r') as f:\n",
    "    document = f.read()"
   ]
  },
  {
   "cell_type": "code",
   "execution_count": 5,
   "metadata": {},
   "outputs": [
    {
     "name": "stdout",
     "output_type": "stream",
     "text": [
      "To Sherlock Holmes she is always _the_ woman. I have seldom heard him\n",
      "mention her under any other name. In his eyes she eclipses and\n",
      "predominates the whole of her sex. It was not that he felt any emotion\n",
      "akin to love for Irene Adler. All emotions, and that one particularly,\n",
      "were abhorrent to his cold, precise but admirably balanced mind. He\n",
      "was, I take it, the most perfect reasoning and observing machine that\n",
      "the world has seen, but as a lover he would have placed himself in a\n",
      "false position. He never spoke of the softer passions, save with a gibe\n",
      "and a sneer. They were admirable things for the observer—excellent for\n",
      "drawing the veil from men’s motives and actions. But for the trained\n",
      "reasoner to admit such intrusions into his own delicate and finely\n",
      "adjusted temperament was to introduce a distracting factor which might\n",
      "throw a doubt upon all his mental results. Grit in a sensitive\n",
      "instrument, or a crack in one of his own high-power lenses, would not\n",
      "be more disturbing than a strong emotion in a nature such as his. And\n",
      "yet there was but one woman to him, and that woman was the late Irene\n",
      "Adler, of dubious and questionable memory.\n"
     ]
    }
   ],
   "source": [
    "print(document)"
   ]
  },
  {
   "cell_type": "code",
   "execution_count": 2,
   "metadata": {},
   "outputs": [],
   "source": [
    "import nltk\n",
    "from nltk.probability import FreqDist\n",
    "from nltk.tokenize import word_tokenize\n",
    "from nltk.util import bigrams\n",
    "from nltk.collocations import BigramCollocationFinder"
   ]
  },
  {
   "cell_type": "markdown",
   "metadata": {},
   "source": [
    "## Collecting text data\n",
    "\n",
    "- Electronic book \n",
    "- Web page content \n",
    "- Search engine results (Google) \n",
    "- RSS feeds \n",
    "- PDF, Word and other binary formats \n",
    "- User input "
   ]
  },
  {
   "cell_type": "markdown",
   "metadata": {},
   "source": [
    "## Accessing text corpora\n",
    "A text corpus is a large body of text.\n",
    "- from nltk.corpus import gutenberg, webtext, nps_chat, brown\n",
    "\n",
    "    + **gutenberg**: a small selection of texts from the Project Gutenberg electronic text\n",
    "archive, which contains some 25,000 free electronic books\n",
    "\n",
    "    + **webtext**: NLTK’s small collection of web text includes content from a Firefox discussion forum, conversations\n",
    "overheard in New York, the movie script of Pirates of the Carribean, personal adver-\n",
    "tisements, and wine reviews (less formal language than book such as gutenberg)\n",
    "\n",
    "    + **nps_chat**: a corpus of instant messaging chat sessions\n",
    "\n",
    "    + **brown**: The Brown Corpus was the first million-word electronic corpus of English, created in\n",
    "1961 at Brown University. This corpus contains text from 500 sources, and the sources\n",
    "have been categorized by genre, such as news, editorial, and so on\n",
    "\n",
    "    + ....\n",
    "\n",
    "- Method\n",
    "     + gutenberg.**fileids()**: return a list of text file in corpus\n",
    "     + gutenberg.**words(file_id:str)**: return a list of words in fileid\n",
    "     + gutenberg.**sents()**, gutenberg.**raw()**\n",
    "     + ....\n",
    "\n",
    "![Common structure for text copora](https://www.nltk.org/images/text-corpus-structure.png)"
   ]
  },
  {
   "cell_type": "markdown",
   "metadata": {},
   "source": [
    "## Lexical resources\n",
    "\n",
    "Lexical resources is a collection of words and/or phrases along with associated information, such as part-of-speech, pronunciation and sense defination.\n",
    "\n",
    "- **wordlist copora**: from nltk.corpus import words, stopwords\n",
    "\n",
    "We can use it to remove unusual and misspelled words.\n",
    "\n",
    "- **A pronunciation dictionary**: from nltk.corpus import cmudict\n",
    "\n",
    "It's usually designed for speech.\n",
    "\n",
    "- **Toolbox lexicons**\n",
    "\n",
    "- **Wordnet**:from nltk.corpus import wordnet\n",
    "\n",
    "WordNet is a semantically oriented dictionary of English, consisting of synonym sets or synsets and organized into a network."
   ]
  },
  {
   "cell_type": "markdown",
   "metadata": {},
   "source": [
    "## Processing raw text"
   ]
  },
  {
   "cell_type": "markdown",
   "metadata": {},
   "source": [
    "### String method\n",
    "\n",
    "![](https://miro.medium.com/max/866/1*m2e4Z2uV06JIrGVEpLLb7w.png)"
   ]
  },
  {
   "cell_type": "markdown",
   "metadata": {},
   "source": [
    "### Regular expression"
   ]
  },
  {
   "cell_type": "markdown",
   "metadata": {},
   "source": [
    "### Normalizing text\n",
    "\n",
    "- [Stemmers](https://www.nltk.org/howto/stem.html)\n",
    "\n",
    "- [Lemmetization](https://www.nltk.org/api/nltk.stem.wordnet.html)"
   ]
  },
  {
   "cell_type": "markdown",
   "metadata": {},
   "source": [
    "### Re for tokenizing text\n",
    "\n",
    "Using regular expression for tokenizing text allows you to have much more control over the process."
   ]
  },
  {
   "cell_type": "markdown",
   "metadata": {},
   "source": [
    "# Tokenize \n",
    "- nltk.tokenize.sent_tokenize(document)\n",
    "- nltk.tokenize.word_tokenize(document): Output is a list, where each token is either a word or a puctuation mark.\n"
   ]
  },
  {
   "cell_type": "code",
   "execution_count": 11,
   "metadata": {},
   "outputs": [
    {
     "name": "stdout",
     "output_type": "stream",
     "text": [
      "['To', 'Sherlock', 'Holmes', 'she', 'is', 'always', '_the_', 'woman', '.', 'I']\n"
     ]
    }
   ],
   "source": [
    "list_words = word_tokenize(document)\n",
    "print(list_words[:10])"
   ]
  },
  {
   "cell_type": "markdown",
   "metadata": {},
   "source": [
    "## Simple statistic\n",
    "\n",
    "- nltk.probability.FreqDist(list_words)\n",
    "- [nltk.probability.ConditionalFreqDist](https://www.nltk.org/api/nltk.probability.html?highlight=conditionalfreqdist#nltk.probability.ConditionalFreqDist): receive list of tuple (condition,event) such as (caterory, word) as input. This will allow us to study systematic differences between the categories.\n",
    "- nltk.util.bigrams(list_words)\n",
    "- [nltk.collocations](https://www.nltk.org/howto/collocations.html)"
   ]
  },
  {
   "cell_type": "code",
   "execution_count": 34,
   "metadata": {},
   "outputs": [
    {
     "data": {
      "image/png": "[encoded data removed]",
      "text/plain": [
       "<Figure size 432x288 with 1 Axes>"
      ]
     },
     "metadata": {
      "needs_background": "light"
     },
     "output_type": "display_data"
    },
    {
     "data": {
      "text/plain": [
       "<AxesSubplot:xlabel='Samples', ylabel='Cumulative Counts'>"
      ]
     },
     "execution_count": 34,
     "metadata": {},
     "output_type": "execute_result"
    }
   ],
   "source": [
    "freq = FreqDist(word.lower() for word in word_tokenize(document) if word.isalpha())\n",
    "freq.plot(50,cumulative=True)"
   ]
  },
  {
   "cell_type": "code",
   "execution_count": 35,
   "metadata": {},
   "outputs": [
    {
     "name": "stdout",
     "output_type": "stream",
     "text": [
      "[('a', 10), ('and', 9), ('the', 8), ('to', 6), ('his', 6), ('in', 5), ('was', 5), ('of', 4), ('that', 4), ('he', 4), ('for', 4), ('but', 4), ('woman', 3), ('one', 3), ('she', 2), ('i', 2), ('have', 2), ('him', 2), ('her', 2), ('any', 2), ('it', 2), ('not', 2), ('emotion', 2), ('irene', 2), ('adler', 2), ('all', 2), ('were', 2), ('as', 2), ('would', 2), ('such', 2), ('own', 2), ('sherlock', 1), ('holmes', 1), ('is', 1), ('always', 1), ('seldom', 1), ('heard', 1), ('mention', 1), ('under', 1), ('other', 1), ('name', 1), ('eyes', 1), ('eclipses', 1), ('predominates', 1), ('whole', 1), ('sex', 1), ('felt', 1), ('akin', 1), ('love', 1), ('emotions', 1), ('particularly', 1), ('abhorrent', 1), ('cold', 1), ('precise', 1), ('admirably', 1), ('balanced', 1), ('mind', 1), ('take', 1), ('most', 1), ('perfect', 1), ('reasoning', 1), ('observing', 1), ('machine', 1), ('world', 1), ('has', 1), ('seen', 1), ('lover', 1), ('placed', 1), ('himself', 1), ('false', 1), ('position', 1), ('never', 1), ('spoke', 1), ('softer', 1), ('passions', 1), ('save', 1), ('with', 1), ('gibe', 1), ('sneer', 1), ('they', 1), ('admirable', 1), ('things', 1), ('drawing', 1), ('veil', 1), ('from', 1), ('men', 1), ('s', 1), ('motives', 1), ('actions', 1), ('trained', 1), ('reasoner', 1), ('admit', 1), ('intrusions', 1), ('into', 1), ('delicate', 1), ('finely', 1), ('adjusted', 1), ('temperament', 1), ('introduce', 1), ('distracting', 1), ('factor', 1), ('which', 1), ('might', 1), ('throw', 1), ('doubt', 1), ('upon', 1), ('mental', 1), ('results', 1), ('grit', 1), ('sensitive', 1), ('instrument', 1), ('or', 1), ('crack', 1), ('lenses', 1), ('be', 1), ('more', 1), ('disturbing', 1), ('than', 1), ('strong', 1), ('nature', 1), ('yet', 1), ('there', 1), ('late', 1), ('dubious', 1), ('questionable', 1), ('memory', 1)]\n"
     ]
    }
   ],
   "source": [
    "print(sorted(freq.items(), key=lambda x:x[1], reverse=True))"
   ]
  },
  {
   "cell_type": "code",
   "execution_count": 4,
   "metadata": {},
   "outputs": [
    {
     "data": {
      "text/plain": [
       "FreqDist({'and': 8, 'the': 8, 'his': 6, 'was': 5, 'for': 4, 'one': 3, 'but': 3, 'she': 2, 'him': 2, 'her': 2, ...})"
      ]
     },
     "execution_count": 4,
     "metadata": {},
     "output_type": "execute_result"
    }
   ],
   "source": [
    "from nltk.probability import ConditionalFreqDist\n",
    "cfdist = ConditionalFreqDist((len(word),word) for word in word_tokenize(document))\n",
    "cfdist[3]"
   ]
  },
  {
   "cell_type": "code",
   "execution_count": 22,
   "metadata": {},
   "outputs": [
    {
     "name": "stdout",
     "output_type": "stream",
     "text": [
      "[('To', 'Sherlock'), ('Sherlock', 'Holmes'), ('Holmes', 'she'), ('she', 'is'), ('is', 'always'), ('always', '_the_'), ('_the_', 'woman'), ('woman', '.'), ('.', 'I'), ('I', 'have')]\n"
     ]
    }
   ],
   "source": [
    "print(list(bigrams(list_words))[:10])"
   ]
  },
  {
   "cell_type": "code",
   "execution_count": 28,
   "metadata": {},
   "outputs": [
    {
     "data": {
      "text/plain": [
       "[('All', 'emotions'),\n",
       " ('And', 'yet'),\n",
       " ('Sherlock', 'Holmes'),\n",
       " ('To', 'Sherlock'),\n",
       " ('adjusted', 'temperament'),\n",
       " ('admirable', 'things'),\n",
       " ('admirably', 'balanced'),\n",
       " ('always', '_the_'),\n",
       " ('balanced', 'mind'),\n",
       " ('be', 'more')]"
      ]
     },
     "execution_count": 28,
     "metadata": {},
     "output_type": "execute_result"
    }
   ],
   "source": [
    "from nltk.collocations import *\n",
    "# score ngram according to some association measures\n",
    "biagram_measure = nltk.collocations.BigramAssocMeasures()\n",
    "# Defind finder\n",
    "finder = BigramCollocationFinder.from_words(list_words)\n",
    "# only get ngram appearing more than 2 times\n",
    "finder.apply_freq_filter(0)\n",
    "# use Pointwise Mutual Information(pmi) to scrore ngram\n",
    "finder.nbest(biagram_measure.pmi, 10)"
   ]
  },
  {
   "cell_type": "markdown",
   "metadata": {},
   "source": [
    "## Tagging words"
   ]
  },
  {
   "cell_type": "code",
   "execution_count": null,
   "metadata": {},
   "outputs": [],
   "source": []
  }
 ],
 "metadata": {
  "interpreter": {
   "hash": "916dbcbb3f70747c44a77c7bcd40155683ae19c65e1c03b4aa3499c5328201f1"
  },
  "kernelspec": {
   "display_name": "Python 3 (ipykernel)",
   "language": "python",
   "name": "python3"
  },
  "language_info": {
   "codemirror_mode": {
    "name": "ipython",
    "version": 3
   },
   "file_extension": ".py",
   "mimetype": "text/x-python",
   "name": "python",
   "nbconvert_exporter": "python",
   "pygments_lexer": "ipython3",
   "version": "3.8.10"
  }
 },
 "nbformat": 4,
 "nbformat_minor": 2
}
